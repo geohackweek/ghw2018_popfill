{
 "cells": [
  {
   "cell_type": "code",
   "execution_count": 3,
   "metadata": {
    "scrolled": true
   },
   "outputs": [],
   "source": [
    "import rasterio\n",
    "import rasterio.plot\n",
    "# import pyproj\n",
    "import numpy as np\n",
    "import matplotlib\n",
    "import matplotlib.pyplot as plt\n",
    "\n",
    "%matplotlib inline"
   ]
  },
  {
   "cell_type": "code",
   "execution_count": 4,
   "metadata": {},
   "outputs": [
    {
     "ename": "IndentationError",
     "evalue": "expected an indented block (<ipython-input-4-c39422e5bb34>, line 4)",
     "output_type": "error",
     "traceback": [
      "\u001b[0;36m  File \u001b[0;32m\"<ipython-input-4-c39422e5bb34>\"\u001b[0;36m, line \u001b[0;32m4\u001b[0m\n\u001b[0;31m    '''A function to read raster data for mask and counts and convert to Numpy array'''\u001b[0m\n\u001b[0m                                                                                      ^\u001b[0m\n\u001b[0;31mIndentationError\u001b[0m\u001b[0;31m:\u001b[0m expected an indented block\n"
     ]
    }
   ],
   "source": [
    "\n",
    "def raster2np(mask_path, pop_path):   \n",
    "    with rasterio.open(mask_path) as mask:\n",
    "\n",
    "        mask_profile = mask.profile.copy()\n",
    "        mask_np = mask.read(1)\n",
    "    mask_np[mask_np == mask.nodata] = 0\n",
    "    mask_np = mask_np.astype(bool)\n",
    "\n",
    "    with rasterio.open(pop_path) as pop:\n",
    "        pop_profile = pop.profile.copy()\n",
    "        pop_np = pop.read(1)\n",
    "    pop_np[pop_np == pop.nodata] = np.NaN;\n",
    "\n",
    "    raster_info = zip(mask_profile, pop_profile)\n",
    "\n",
    "    return mask_np, pop_np, raster_info\n"
   ]
  },
  {
   "cell_type": "code",
   "execution_count": 2,
   "metadata": {},
   "outputs": [],
   "source": [
    "mask_path = '../data/mask_clip_simple.tif'\n",
    "pop_path = '../data/pop_clip_simple.tif'"
   ]
  },
  {
   "cell_type": "code",
   "execution_count": 12,
   "metadata": {},
   "outputs": [
    {
     "name": "stdout",
     "output_type": "stream",
     "text": [
      "population surface:\n",
      "{'driver': 'GTiff', 'dtype': 'float32', 'nodata': -3.4028230607370965e+38, 'width': 49, 'height': 39, 'count': 1, 'crs': CRS({'init': 'epsg:4326'}), 'transform': Affine(0.008333333333332714, 0.0, -156.7916666666676,\n",
      "       0.0, -0.008333333333333042, 21.05833261331081), 'tiled': False, 'compress': 'lzw', 'interleave': 'band'}\n"
     ]
    },
    {
     "data": {
      "image/png": "[encoded data removed]",
      "text/plain": [
       "<Figure size 432x288 with 1 Axes>"
      ]
     },
     "metadata": {
      "needs_background": "light"
     },
     "output_type": "display_data"
    }
   ],
   "source": [
    "with rasterio.open(pop_file) as pop:\n",
    "    \n",
    "    print('population surface:')\n",
    "    print(pop.profile)\n",
    "    \n",
    "    pop_crs = pop.crs\n",
    "    pop_nodata = pop.nodata\n",
    "    pop_profile = pop.profile.copy()\n",
    "    pop_aff = pop.transform\n",
    "    \n",
    "    pop_np = pop.read(1)\n",
    "    pop_np[pop_np == pop_nodata] = np.NaN;\n",
    "    \n",
    "    plt.imshow(pop_np)\n"
   ]
  },
  {
   "cell_type": "code",
   "execution_count": 4,
   "metadata": {},
   "outputs": [
    {
     "data": {
      "text/plain": [
       "array([[      nan,       nan,       nan, ...,       nan,       nan,\n",
       "              nan],\n",
       "       [      nan,       nan,       nan, ...,       nan,       nan,\n",
       "              nan],\n",
       "       [      nan,       nan,       nan, ...,       nan,       nan,\n",
       "              nan],\n",
       "       ...,\n",
       "       [      nan,       nan,       nan, ..., 0.       , 0.       ,\n",
       "        0.       ],\n",
       "       [      nan,       nan,       nan, ..., 0.       , 0.       ,\n",
       "        0.       ],\n",
       "       [      nan,       nan,       nan, ..., 0.       , 0.       ,\n",
       "        2.8030999]], dtype=float32)"
      ]
     },
     "execution_count": 4,
     "metadata": {},
     "output_type": "execute_result"
    }
   ],
   "source": [
    "pop_np"
   ]
  },
  {
   "cell_type": "code",
   "execution_count": 10,
   "metadata": {
    "scrolled": false
   },
   "outputs": [
    {
     "name": "stdout",
     "output_type": "stream",
     "text": [
      "mask surface:\n",
      "{'driver': 'GTiff', 'dtype': 'float32', 'nodata': -9999.0, 'width': 49, 'height': 39, 'count': 1, 'crs': CRS({'init': 'epsg:4326'}), 'transform': Affine(0.008333333333332714, 0.0, -156.7916666666676,\n",
      "       0.0, -0.008333333333333042, 21.058333333336094), 'tiled': False, 'compress': 'lzw', 'interleave': 'band'}\n"
     ]
    },
    {
     "data": {
      "image/png": "[encoded data removed]",
      "text/plain": [
       "<Figure size 432x288 with 1 Axes>"
      ]
     },
     "metadata": {
      "needs_background": "light"
     },
     "output_type": "display_data"
    }
   ],
   "source": [
    "with rasterio.open(mask_file) as mask:\n",
    "    \n",
    "    print('mask surface:')\n",
    "    print(mask.profile)\n",
    "    \n",
    "    mask_crs = mask.crs\n",
    "    mask_nodata = mask.nodata\n",
    "    mask_profile = mask.profile.copy()\n",
    "    mask_aff = mask.transform\n",
    "    # note the origin is slightly different beetween pop and mask\n",
    "    \n",
    "    mask_np = mask.read(1)\n",
    "    mask_np[mask_np == mask_nodata] = 0\n",
    "    \n",
    "    mask_np = mask_np.astype(bool)\n",
    "    plt.imshow(mask_np)"
   ]
  },
  {
   "cell_type": "code",
   "execution_count": 11,
   "metadata": {},
   "outputs": [
    {
     "data": {
      "text/plain": [
       "array([[False, False, False, ..., False, False, False],\n",
       "       [False, False, False, ..., False, False, False],\n",
       "       [False, False, False, ..., False, False, False],\n",
       "       ...,\n",
       "       [False, False, False, ...,  True,  True,  True],\n",
       "       [False, False, False, ...,  True,  True,  True],\n",
       "       [False, False, False, ...,  True,  True,  True]])"
      ]
     },
     "execution_count": 11,
     "metadata": {},
     "output_type": "execute_result"
    }
   ],
   "source": [
    "mask_np"
   ]
  },
  {
   "cell_type": "code",
   "execution_count": 2,
   "metadata": {},
   "outputs": [
    {
     "ename": "NameError",
     "evalue": "name 'raster2np' is not defined",
     "output_type": "error",
     "traceback": [
      "\u001b[0;31m---------------------------------------------------------------------------\u001b[0m",
      "\u001b[0;31mNameError\u001b[0m                                 Traceback (most recent call last)",
      "\u001b[0;32m<ipython-input-2-ce7832fc51b8>\u001b[0m in \u001b[0;36m<module>\u001b[0;34m()\u001b[0m\n\u001b[0;32m----> 1\u001b[0;31m \u001b[0ma\u001b[0m\u001b[0;34m,\u001b[0m \u001b[0mb\u001b[0m\u001b[0;34m,\u001b[0m \u001b[0mc\u001b[0m \u001b[0;34m=\u001b[0m \u001b[0mraster2np\u001b[0m\u001b[0;34m(\u001b[0m\u001b[0mmask_path\u001b[0m\u001b[0;34m,\u001b[0m \u001b[0mpop_path\u001b[0m\u001b[0;34m)\u001b[0m\u001b[0;34m\u001b[0m\u001b[0m\n\u001b[0m",
      "\u001b[0;31mNameError\u001b[0m: name 'raster2np' is not defined"
     ]
    }
   ],
   "source": [
    "a, b, c = raster2np(mask_path, pop_path)"
   ]
  },
  {
   "cell_type": "code",
   "execution_count": 1,
   "metadata": {},
   "outputs": [
    {
     "ename": "NameError",
     "evalue": "name 'a' is not defined",
     "output_type": "error",
     "traceback": [
      "\u001b[0;31m---------------------------------------------------------------------------\u001b[0m",
      "\u001b[0;31mNameError\u001b[0m                                 Traceback (most recent call last)",
      "\u001b[0;32m<ipython-input-1-3f786850e387>\u001b[0m in \u001b[0;36m<module>\u001b[0;34m()\u001b[0m\n\u001b[0;32m----> 1\u001b[0;31m \u001b[0ma\u001b[0m\u001b[0;34m\u001b[0m\u001b[0m\n\u001b[0m",
      "\u001b[0;31mNameError\u001b[0m: name 'a' is not defined"
     ]
    }
   ],
   "source": []
  }
 ],
 "metadata": {
  "kernelspec": {
   "display_name": "Python 3",
   "language": "python",
   "name": "python3"
  },
  "language_info": {
   "codemirror_mode": {
    "name": "ipython",
    "version": 3
   },
   "file_extension": ".py",
   "mimetype": "text/x-python",
   "name": "python",
   "nbconvert_exporter": "python",
   "pygments_lexer": "ipython3",
   "version": "3.6.6"
  }
 },
 "nbformat": 4,
 "nbformat_minor": 2
}
