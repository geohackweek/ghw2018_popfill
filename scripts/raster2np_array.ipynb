{
 "cells": [
  {
   "cell_type": "code",
   "execution_count": 1,
   "metadata": {
    "scrolled": true
   },
   "outputs": [],
   "source": [
    "import rasterio\n",
    "import rasterio.plot\n",
    "# import pyproj\n",
    "import numpy as np\n",
    "import matplotlib\n",
    "import matplotlib.pyplot as plt\n",
    "\n",
    "%matplotlib inline"
   ]
  },
  {
   "cell_type": "code",
   "execution_count": 11,
   "metadata": {},
   "outputs": [],
   "source": [
    "# this function generates a boolean mask based on the population map\n",
    "def pop2msk(pop):\n",
    "    mask = (pop == pop )\n",
    "    return mask;"
   ]
  },
  {
   "cell_type": "code",
   "execution_count": 2,
   "metadata": {},
   "outputs": [],
   "source": [
    "mask_file = '../data/mask_clip_simple.tif'\n",
    "pop_file = '../data/pop_clip_simple.tif'"
   ]
  },
  {
   "cell_type": "code",
   "execution_count": 12,
   "metadata": {
    "scrolled": true
   },
   "outputs": [
    {
     "name": "stdout",
     "output_type": "stream",
     "text": [
      "population surface:\n",
      "{'driver': 'GTiff', 'dtype': 'float32', 'nodata': -3.4028230607370965e+38, 'width': 49, 'height': 39, 'count': 1, 'crs': CRS({'init': 'epsg:4326'}), 'transform': Affine(0.008333333333332714, 0.0, -156.7916666666676,\n",
      "       0.0, -0.008333333333333042, 21.05833261331081), 'tiled': False, 'compress': 'lzw', 'interleave': 'band'}\n"
     ]
    },
    {
     "data": {
      "image/png": "[encoded data removed]",
      "text/plain": [
       "<Figure size 432x288 with 1 Axes>"
      ]
     },
     "metadata": {
      "needs_background": "light"
     },
     "output_type": "display_data"
    }
   ],
   "source": [
    "with rasterio.open(pop_file) as pop:\n",
    "    \n",
    "    print('population surface:')\n",
    "    print(pop.profile)\n",
    "    \n",
    "    pop_crs = pop.crs\n",
    "    pop_nodata = pop.nodata\n",
    "    pop_profile = pop.profile.copy()\n",
    "    pop_aff = pop.transform\n",
    "    \n",
    "    pop_np = pop.read(1)\n",
    "    pop_np[pop_np == pop_nodata] = np.NaN;\n",
    "    \n",
    "    plt.imshow(pop_np)"
   ]
  },
  {
   "cell_type": "code",
   "execution_count": 13,
   "metadata": {},
   "outputs": [
    {
     "data": {
      "text/plain": [
       "<matplotlib.image.AxesImage at 0x11fe71400>"
      ]
     },
     "execution_count": 13,
     "metadata": {},
     "output_type": "execute_result"
    },
    {
     "data": {
      "image/png": "[encoded data removed]",
      "text/plain": [
       "<Figure size 432x288 with 1 Axes>"
      ]
     },
     "metadata": {
      "needs_background": "light"
     },
     "output_type": "display_data"
    }
   ],
   "source": [
    "popmask = pop2msk(pop_np)\n",
    "plt.imshow(popmask)"
   ]
  },
  {
   "cell_type": "code",
   "execution_count": 4,
   "metadata": {},
   "outputs": [
    {
     "data": {
      "text/plain": [
       "array([[      nan,       nan,       nan, ...,       nan,       nan,\n",
       "              nan],\n",
       "       [      nan,       nan,       nan, ...,       nan,       nan,\n",
       "              nan],\n",
       "       [      nan,       nan,       nan, ...,       nan,       nan,\n",
       "              nan],\n",
       "       ...,\n",
       "       [      nan,       nan,       nan, ..., 0.       , 0.       ,\n",
       "        0.       ],\n",
       "       [      nan,       nan,       nan, ..., 0.       , 0.       ,\n",
       "        0.       ],\n",
       "       [      nan,       nan,       nan, ..., 0.       , 0.       ,\n",
       "        2.8030999]], dtype=float32)"
      ]
     },
     "execution_count": 4,
     "metadata": {},
     "output_type": "execute_result"
    }
   ],
   "source": [
    "pop_np"
   ]
  },
  {
   "cell_type": "code",
   "execution_count": 5,
   "metadata": {
    "scrolled": false
   },
   "outputs": [
    {
     "name": "stdout",
     "output_type": "stream",
     "text": [
      "mask surface:\n",
      "{'driver': 'GTiff', 'dtype': 'float32', 'nodata': -9999.0, 'width': 49, 'height': 39, 'count': 1, 'crs': CRS({'init': 'epsg:4326'}), 'transform': Affine(0.008333333333332714, 0.0, -156.7916666666676,\n",
      "       0.0, -0.008333333333333042, 21.058333333336094), 'tiled': False, 'compress': 'lzw', 'interleave': 'band'}\n"
     ]
    },
    {
     "data": {
      "image/png": "[encoded data removed]",
      "text/plain": [
       "<Figure size 432x288 with 1 Axes>"
      ]
     },
     "metadata": {
      "needs_background": "light"
     },
     "output_type": "display_data"
    }
   ],
   "source": [
    "with rasterio.open(mask_file) as mask:\n",
    "    \n",
    "    print('mask surface:')\n",
    "    print(mask.profile)\n",
    "    \n",
    "    mask_crs = mask.crs\n",
    "    mask_nodata = mask.nodata\n",
    "    mask_profile = mask.profile.copy()\n",
    "    mask_aff = mask.transform\n",
    "    # note the origin is slightly different beetween pop and mask\n",
    "    \n",
    "    mask_np = mask.read(1)\n",
    "    mask_np[mask_np == mask_nodata] = 0\n",
    "    \n",
    "    mask_np = mask_np.astype(bool)\n",
    "    plt.imshow(mask_np)"
   ]
  },
  {
   "cell_type": "code",
   "execution_count": 6,
   "metadata": {},
   "outputs": [
    {
     "data": {
      "text/plain": [
       "array([[False, False, False, ..., False, False, False],\n",
       "       [False, False, False, ..., False, False, False],\n",
       "       [False, False, False, ..., False, False, False],\n",
       "       ...,\n",
       "       [False, False, False, ...,  True,  True,  True],\n",
       "       [False, False, False, ...,  True,  True,  True],\n",
       "       [False, False, False, ...,  True,  True,  True]])"
      ]
     },
     "execution_count": 6,
     "metadata": {},
     "output_type": "execute_result"
    }
   ],
   "source": [
    "mask_np"
   ]
  },
  {
   "cell_type": "code",
   "execution_count": null,
   "metadata": {},
   "outputs": [],
   "source": []
  },
  {
   "cell_type": "code",
   "execution_count": null,
   "metadata": {},
   "outputs": [],
   "source": []
  }
 ],
 "metadata": {
  "kernelspec": {
   "display_name": "Python 3",
   "language": "python",
   "name": "python3"
  },
  "language_info": {
   "codemirror_mode": {
    "name": "ipython",
    "version": 3
   },
   "file_extension": ".py",
   "mimetype": "text/x-python",
   "name": "python",
   "nbconvert_exporter": "python",
   "pygments_lexer": "ipython3",
   "version": "3.6.6"
  }
 },
 "nbformat": 4,
 "nbformat_minor": 2
}
