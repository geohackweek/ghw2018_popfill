{
 "cells": [
  {
   "cell_type": "markdown",
   "metadata": {},
   "source": [
    "# Demo - Level 1 Algorithm\n",
    "\n",
    "This notebook provides a simple demo of the basic filling algorithm. We start off by loading all the libraries that we will need for our demo. "
   ]
  },
  {
   "cell_type": "code",
   "execution_count": null,
   "metadata": {},
   "outputs": [],
   "source": [
    "import numpy as np\n",
    "import rasterio\n",
    "import matplotlib as mpl\n",
    "import matplotlib.pyplot as plt\n",
    "import matplotlib.colors as colors\n",
    "\n",
    "from affine import Affine\n",
    "from copy import copy\n",
    "\n",
    "%matplotlib inline\n",
    "\n",
    "# load level 1 popfill module\n",
    "import popfill.loader\n",
    "import popfill.kernel"
   ]
  },
  {
   "cell_type": "markdown",
   "metadata": {},
   "source": [
    "  Here we specify the path for the example data, whcih includes a subset of WorldPop population data for an area of Indonesia. "
   ]
  },
  {
   "cell_type": "code",
   "execution_count": null,
   "metadata": {},
   "outputs": [],
   "source": [
    "# small subset\n",
    "#mask_file = \"data/mask_clip_simple.tif\"\n",
    "#population_file = \"data/pop_clip_simple.tif\"\n",
    "\n",
    "# large subset\n",
    "mask_file = \"data/mask_clip.tif\"\n",
    "population_file = \"data/pop_clip.tif\""
   ]
  },
  {
   "cell_type": "markdown",
   "metadata": {},
   "source": [
    "Define some functions "
   ]
  },
  {
   "cell_type": "code",
   "execution_count": null,
   "metadata": {},
   "outputs": [],
   "source": [
    "def plot_mask(x,y,data):\n",
    "    \"\"\"plot the mask data\"\"\"\n",
    "    # define color map for mask plotting\n",
    "    mask_color = mpl.colors.ListedColormap(['beige'])\n",
    "    mask_color.set_bad(color='lightblue')\n",
    "    \n",
    "    plt.figure(figsize=(9,6))\n",
    "    plt.imshow(data,interpolation='none',cmap=mask_color,extent=[x[0,0],x[-1,-1],y[-1,-1],y[0,0]])\n",
    "    plt.ylabel('Latitude')\n",
    "    plt.xlabel('Longitude')\n",
    "\n",
    "    \n",
    "def plot_pop(x,y,data):\n",
    "    \"\"\"plot the pop data\"\"\"\n",
    "    # define color map for pop plotting\n",
    "    pop_color = copy(plt.cm.OrRd)\n",
    "    pop_color.set_bad(color='lightblue')\n",
    "\n",
    "    plt.figure(figsize=(9,6))\n",
    "    plt.imshow(data,interpolation='none',cmap=pop_color,extent=[x[0,0],x[-1,-1],y[-1,-1],y[0,0]])\n",
    "    plt.ylabel('Latitude')\n",
    "    plt.xlabel('Longitude')\n",
    "    plt.clim(0, 15000)\n",
    "    plt.colorbar()\n",
    "\n",
    "    \n",
    "# set the colormap and centre the colorbar\n",
    "class MidpointNormalize(colors.Normalize):\n",
    "    \"\"\"\n",
    "    Normalise the colorbar so that diverging bars work there way either side from a prescribed midpoint value)\n",
    "\n",
    "    e.g. im=ax1.imshow(array, norm=MidpointNormalize(midpoint=0.,vmin=-100, vmax=100))\n",
    "    \"\"\"\n",
    "    def __init__(self, vmin=None, vmax=None, midpoint=None, clip=False):\n",
    "        self.midpoint = midpoint\n",
    "        colors.Normalize.__init__(self, vmin, vmax, clip)\n",
    "\n",
    "    def __call__(self, value, clip=None):\n",
    "        # I'm ignoring masked values and all kinds of edge cases to make a\n",
    "        # simple example...\n",
    "        x, y = [self.vmin, self.midpoint, self.vmax], [0, 0.5, 1]\n",
    "        return np.ma.masked_array(np.interp(value, x, y), np.isnan(value))"
   ]
  },
  {
   "cell_type": "markdown",
   "metadata": {},
   "source": [
    "## Load example data and access basic info"
   ]
  },
  {
   "cell_type": "code",
   "execution_count": null,
   "metadata": {},
   "outputs": [],
   "source": [
    "loader = popfill.loader.PopulationLoader()\n",
    "mask, population = loader.load(mask_file, population_file)"
   ]
  },
  {
   "cell_type": "markdown",
   "metadata": {},
   "source": [
    "Get the latitude and longitude information"
   ]
  },
  {
   "cell_type": "code",
   "execution_count": null,
   "metadata": {},
   "outputs": [],
   "source": [
    "T0 = mask.profile['transform']\n",
    "T1 = T0*Affine.translation(0.5, 0.5) # Get affine transform for pixel centers\n",
    "\n",
    "# Function to convert pixel row/column index (from 0) to easting/northing at center\n",
    "rc2xy = lambda r, c: (c, r) * T1\n",
    "\n",
    "col = np.arange(mask.data.shape[1])\n",
    "row = np.arange(mask.data.shape[0])\n",
    "cols, rows = np.meshgrid(col, row)\n",
    "x, y = rc2xy(rows, cols)  # x, y are longitude and latitude coordinates, respectively"
   ]
  },
  {
   "cell_type": "markdown",
   "metadata": {},
   "source": [
    "Set different categories for pixel pairs"
   ]
  },
  {
   "cell_type": "code",
   "execution_count": null,
   "metadata": {},
   "outputs": [],
   "source": [
    "# categorize mask data\n",
    "mask_re = mask.data.astype(np.int)\n",
    "mask_re[mask.data==1] = 2; # land\n",
    "mask_re[mask.data==0] = 1; # sea\n",
    "\n",
    "# categorize population data\n",
    "pop_re = population.data.astype(np.int)\n",
    "pop_re[~np.isnan(population.data)] = 20; # data\n",
    "pop_re[np.isnan(population.data)] = 10; # no data\n",
    "\n",
    "# generate 4 different types of pixel pair\n",
    "class_re = pop_re + mask_re"
   ]
  },
  {
   "cell_type": "markdown",
   "metadata": {},
   "source": [
    "## Initial inspection of input data"
   ]
  },
  {
   "cell_type": "markdown",
   "metadata": {},
   "source": [
    "Let's look at the mask first"
   ]
  },
  {
   "cell_type": "code",
   "execution_count": null,
   "metadata": {},
   "outputs": [],
   "source": [
    "plt_data = np.ma.masked_where(mask.data == False, mask.data)\n",
    "plot_mask(x,y,plt_data)"
   ]
  },
  {
   "cell_type": "markdown",
   "metadata": {},
   "source": [
    "How about the population data?"
   ]
  },
  {
   "cell_type": "code",
   "execution_count": null,
   "metadata": {},
   "outputs": [],
   "source": [
    "plt_data = np.ma.masked_where(population.data == np.nan, population.data)\n",
    "plot_pop(x,y,plt_data)"
   ]
  },
  {
   "cell_type": "markdown",
   "metadata": {},
   "source": [
    "What's the issue with mapping? At first glance these maps looks to have the same coverage. But let's take a look at the pixel pairs between population data and mask:"
   ]
  },
  {
   "cell_type": "code",
   "execution_count": null,
   "metadata": {},
   "outputs": [],
   "source": [
    "plt.figure(figsize=(9,6))\n",
    "h1 = plt.scatter(x[class_re==11], y[class_re==11], 1, c = 'lightblue', marker = u's')\n",
    "h4 = plt.scatter(x[class_re==22], y[class_re==22], 1, c = 'beige', marker = u's')\n",
    "h2 = plt.scatter(x[class_re==12], y[class_re==12], 1, c = 'black', marker = u's')\n",
    "h3 = plt.scatter(x[class_re==21], y[class_re==21], 1, c = 'red', marker = u's')\n",
    "\n",
    "plt.legend((h1,h2,h3,h4),('no data - sea','no data - land','data - sea','data - land'),\n",
    "           fontsize='large',markerscale=3,fancybox=True,framealpha=0.4,loc=1)\n",
    "plt.ylabel('Latitude')\n",
    "plt.xlabel('Longitude')\n",
    "plt.xlim(x[0,0],x[-1,-1])\n",
    "plt.ylim(y[-1,-1],y[0,0]);"
   ]
  },
  {
   "cell_type": "markdown",
   "metadata": {},
   "source": [
    "How are this 4 different situations distributed in the dataset?"
   ]
  },
  {
   "cell_type": "code",
   "execution_count": null,
   "metadata": {
    "scrolled": false
   },
   "outputs": [],
   "source": [
    "unique, counts = np.unique(class_re, return_counts=True)\n",
    "\n",
    "# bar plot to show the counts of different pixel pairs\n",
    "plt.figure(figsize=(6,6))\n",
    "\n",
    "plt.ylabel('Counts')\n",
    "plt.bar(np.arange(4),counts,.3,align='center',color='turquoise',edgecolor='silver',linewidth=3)\n",
    "plt.xticks(np.arange(4), ('no data - sea','no data - land','data - sea','data - land'));\n"
   ]
  },
  {
   "cell_type": "markdown",
   "metadata": {},
   "source": [
    "## Redistribute the population to mask setting\n",
    "\n",
    "Below, the filler function applies a simple redistribution where data - sea pixels are uniformly redistributed to no data - land pixels"
   ]
  },
  {
   "cell_type": "code",
   "execution_count": null,
   "metadata": {},
   "outputs": [],
   "source": [
    "filler = popfill.kernel.Basic(mask.data, population.data)\n",
    "filled_pop = filler.fill()"
   ]
  },
  {
   "cell_type": "markdown",
   "metadata": {},
   "source": [
    "How does the new population data look like?"
   ]
  },
  {
   "cell_type": "code",
   "execution_count": null,
   "metadata": {},
   "outputs": [],
   "source": [
    "plt_data = np.ma.masked_where(filled_pop == np.nan, filled_pop)\n",
    "plot_pop(x,y,plt_data)"
   ]
  },
  {
   "cell_type": "markdown",
   "metadata": {},
   "source": [
    "## Examining the Difference "
   ]
  },
  {
   "cell_type": "code",
   "execution_count": null,
   "metadata": {},
   "outputs": [],
   "source": [
    "# get the index reference for problematic pixel pairs\n",
    "\n",
    "old_pop = population.data.copy()\n",
    "old_pop[rows[class_re==12], cols[class_re==12]] = 0 # black points\n",
    "\n",
    "new_pop = filled_pop.copy()\n",
    "new_pop[rows[class_re==21], cols[class_re==21]] = 0 # red points\n",
    "\n",
    "# compute the difference\n",
    "pop_diff = new_pop - old_pop"
   ]
  },
  {
   "cell_type": "markdown",
   "metadata": {},
   "source": [
    "Plot the difference between new and old population data"
   ]
  },
  {
   "cell_type": "code",
   "execution_count": null,
   "metadata": {
    "scrolled": false
   },
   "outputs": [],
   "source": [
    "plt.figure(figsize=(9,6))\n",
    "plt.imshow(pop_diff,interpolation='none',cmap='coolwarm',\n",
    "           extent=[x[0,0],x[-1,-1],y[-1,-1],y[0,0]],\n",
    "           norm=MidpointNormalize(midpoint=0.,vmin=np.nanmin(pop_diff), vmax=np.nanmax(pop_diff)))\n",
    "\n",
    "plt.colorbar()\n",
    "plt.title('New Population - Old Population')\n",
    "plt.ylabel('Latitude')\n",
    "plt.xlabel('Longitude');"
   ]
  },
  {
   "cell_type": "markdown",
   "metadata": {},
   "source": [
    "We cna also check that we have the same total in both the old and new pop array: this is integral, as for counts data we must preserve the sum over a given dataset or area."
   ]
  },
  {
   "cell_type": "code",
   "execution_count": null,
   "metadata": {},
   "outputs": [],
   "source": [
    "print(np.nansum(old_pop))\n",
    "print(np.nansum(new_pop))"
   ]
  },
  {
   "cell_type": "markdown",
   "metadata": {},
   "source": [
    "Note that there is a slight difference (4 people, or 0.00001%) likely due to rounding of float values that were moved around."
   ]
  },
  {
   "cell_type": "markdown",
   "metadata": {},
   "source": [
    "# Export new array as raster\n",
    "\n",
    "Finally, export the new numpy population array as a geotidff with the attributes of the original raster"
   ]
  },
  {
   "cell_type": "code",
   "execution_count": null,
   "metadata": {},
   "outputs": [],
   "source": [
    "def export_tif(array, out_path, profile):\n",
    "    '''\n",
    "    array: input fixed numpy array\n",
    "    out_path: out path for raster (.tif format)\n",
    "    profile: dictonary defining raster attributes\n",
    "    '''\n",
    "    \n",
    "    #open, define, export array to tiff\n",
    "    with rasterio.open(out_path, 'w', **profile) as out_rast:\n",
    "        out_rast.write(array, 1)\n",
    "        \n",
    "out_prof = mask.profile\n",
    "out_path = \"data/pop_out_clip.tif\"\n",
    "\n",
    "export_tif(filled_pop, out_path, out_prof)"
   ]
  },
  {
   "cell_type": "markdown",
   "metadata": {},
   "source": [
    "We can check the mask and new population have the exact same attributes"
   ]
  },
  {
   "cell_type": "code",
   "execution_count": null,
   "metadata": {},
   "outputs": [],
   "source": [
    "new_pop_tif = rasterio.open(out_path)\n",
    "\n",
    "print(new_pop_tif.profile)\n",
    "print(mask.profile)\n",
    "new_pop_tif.close()"
   ]
  }
 ],
 "metadata": {
  "kernelspec": {
   "display_name": "Python 3",
   "language": "python",
   "name": "python3"
  },
  "language_info": {
   "codemirror_mode": {
    "name": "ipython",
    "version": 3
   },
   "file_extension": ".py",
   "mimetype": "text/x-python",
   "name": "python",
   "nbconvert_exporter": "python",
   "pygments_lexer": "ipython3",
   "version": "3.6.6"
  }
 },
 "nbformat": 4,
 "nbformat_minor": 2
}
