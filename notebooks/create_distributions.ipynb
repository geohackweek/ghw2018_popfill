{
 "cells": [
  {
   "cell_type": "code",
   "execution_count": 6,
   "metadata": {},
   "outputs": [],
   "source": [
    "import numpy\n",
    "import math\n",
    "import matplotlib.pyplot as plt"
   ]
  },
  {
   "cell_type": "code",
   "execution_count": 7,
   "metadata": {},
   "outputs": [],
   "source": [
    "# some functions\n",
    "def coordinate(i,d1,o1):\n",
    "    return i*d1+o1;\n",
    "    \n",
    "    \n",
    "def gaussian(x,y,ox,oy,sigma):\n",
    "    partition = 1/(sigma*math.sqrt(2*numpy.pi))\n",
    "    dx = x-ox\n",
    "    dy = y-oy\n",
    "    exparg = -.5*math.sqrt((dx*dx+dy*dy)/(sigma*sigma))\n",
    "    expon = math.exp(exparg)\n",
    "    return partition*expon;\n",
    "\n",
    "def distrbmake(n1,n2,d1,d2,o1,o2,x0,y0,sigma,thresh):\n",
    "    data1 = numpy.zeros((n2,n1),'f')\n",
    "    for j in range(n2):\n",
    "        y = coordinate(j,d2,o2)\n",
    "        for i in range(n1):\n",
    "            x = coordinate(i,d1,o1)\n",
    "            data1[i][j] = gaussian(x,y,x0,y0,sigma)\n",
    "            if (data1[i][j] < thresh):\n",
    "                data1[i][j] = 0\n",
    "\n",
    "\n",
    "    return data1;\n"
   ]
  },
  {
   "cell_type": "code",
   "execution_count": 8,
   "metadata": {},
   "outputs": [],
   "source": [
    "# parameters\n",
    "n1 = 51\n",
    "n2 = n1\n",
    "\n",
    "d1 = .1\n",
    "d2 = d1\n",
    "\n",
    "o1 = -(n1-1)*d1/2\n",
    "o2 = -(n2-1)*d2/2\n",
    "\n",
    "#first origin\n",
    "x1 = 0\n",
    "x2 = 0\n",
    "\n",
    "# second origin\n",
    "y1 = .2\n",
    "y2 = .2\n",
    "\n",
    "sigma=.5\n",
    "\n",
    "thresh = .1"
   ]
  },
  {
   "cell_type": "code",
   "execution_count": 9,
   "metadata": {},
   "outputs": [
    {
     "data": {
      "text/plain": [
       "<function matplotlib.pyplot.show(*args, **kw)>"
      ]
     },
     "execution_count": 9,
     "metadata": {},
     "output_type": "execute_result"
    },
    {
     "data": {
      "image/png": "[encoded data removed]",
      "text/plain": [
       "<Figure size 432x288 with 1 Axes>"
      ]
     },
     "metadata": {
      "needs_background": "light"
     },
     "output_type": "display_data"
    }
   ],
   "source": [
    "first = distrbmake(n1,n2,d1,d2,o1,o2,x1,x2,sigma,thresh)\n",
    "\n",
    "plt.imshow(first, cmap='hot', interpolation='nearest')\n",
    "plt.show"
   ]
  },
  {
   "cell_type": "code",
   "execution_count": 10,
   "metadata": {},
   "outputs": [
    {
     "data": {
      "text/plain": [
       "<function matplotlib.pyplot.show(*args, **kw)>"
      ]
     },
     "execution_count": 10,
     "metadata": {},
     "output_type": "execute_result"
    },
    {
     "data": {
      "image/png": "[encoded data removed]",
      "text/plain": [
       "<Figure size 432x288 with 1 Axes>"
      ]
     },
     "metadata": {
      "needs_background": "light"
     },
     "output_type": "display_data"
    }
   ],
   "source": [
    "second = (distrbmake(n1,n2,d1,d2,o1,o2,y1,y2,sigma,thresh))>0\n",
    "\n",
    "plt.imshow(second, cmap='hot', interpolation='nearest')\n",
    "plt.show"
   ]
  },
  {
   "cell_type": "code",
   "execution_count": null,
   "metadata": {},
   "outputs": [],
   "source": []
  },
  {
   "cell_type": "code",
   "execution_count": null,
   "metadata": {},
   "outputs": [],
   "source": []
  }
 ],
 "metadata": {
  "kernelspec": {
   "display_name": "Python 3",
   "language": "python",
   "name": "python3"
  },
  "language_info": {
   "codemirror_mode": {
    "name": "ipython",
    "version": 3
   },
   "file_extension": ".py",
   "mimetype": "text/x-python",
   "name": "python",
   "nbconvert_exporter": "python",
   "pygments_lexer": "ipython3",
   "version": "3.6.6"
  }
 },
 "nbformat": 4,
 "nbformat_minor": 2
}
