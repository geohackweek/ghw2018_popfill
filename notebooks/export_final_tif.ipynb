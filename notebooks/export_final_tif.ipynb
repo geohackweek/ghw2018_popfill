{
 "cells": [
  {
   "cell_type": "markdown",
   "metadata": {},
   "source": [
    "# Export new array as raster\n",
    "\n",
    "Finally, export the new numpy population array as a geotidff with the attributes of the original raster"
   ]
  },
  {
   "cell_type": "code",
   "execution_count": null,
   "metadata": {},
   "outputs": [],
   "source": [
    "def export_tif(array, out_path, profile):\n",
    "    '''\n",
    "    array: input fixed numpy array\n",
    "    out_path: out path for raster (.tif format)\n",
    "    profile: dictonary defining raster attributes\n",
    "    '''\n",
    "    \n",
    "    #open, define, export array to tiff\n",
    "    with rasterio.open(out_path, 'w', **profile) as out_rast:\n",
    "        out_rast.write(array, 1)\n",
    "        \n",
    "out_prof = mask.profile\n",
    "out_path = \"../data/pop_out_clip.tif\"\n",
    "\n",
    "export_tif(filled_pop, out_path, out_prof)"
   ]
  },
  {
   "cell_type": "markdown",
   "metadata": {},
   "source": [
    "We can check the mask and new population have the exact same attributes"
   ]
  },
  {
   "cell_type": "code",
   "execution_count": null,
   "metadata": {},
   "outputs": [],
   "source": [
    "new_pop_tif = rasterio.open(out_path)\n",
    "\n",
    "print(new_pop_tif.profile)\n",
    "print(mask.profile)\n",
    "new_pop_tif.close()"
   ]
  }
 ],
 "metadata": {
  "kernelspec": {
   "display_name": "Python 3",
   "language": "python",
   "name": "python3"
  },
  "language_info": {
   "codemirror_mode": {
    "name": "ipython",
    "version": 3
   },
   "file_extension": ".py",
   "mimetype": "text/x-python",
   "name": "python",
   "nbconvert_exporter": "python",
   "pygments_lexer": "ipython3",
   "version": "3.7.0"
  }
 },
 "nbformat": 4,
 "nbformat_minor": 2
}
