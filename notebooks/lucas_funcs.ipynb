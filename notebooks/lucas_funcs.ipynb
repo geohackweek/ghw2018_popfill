{
 "cells": [
  {
   "cell_type": "code",
   "execution_count": null,
   "metadata": {},
   "outputs": [],
   "source": [
    "def export_tif(array, out_path, profile):\n",
    "    '''\n",
    "    array: input fixed numpy array\n",
    "    out_path: out path for raster (.tif format)\n",
    "    profile: dictonary defining raster attributes\n",
    "    '''\n",
    "    \n",
    "    #open, define, export array to tiff\n",
    "    with out_rast.write(out_path, 'w', **profile) as out_rast:\n",
    "        out_rast.write(array, 1)\n",
    "    \n",
    "def reclass(array, )"
   ]
  },
  {
   "cell_type": "code",
   "execution_count": null,
   "metadata": {},
   "outputs": [],
   "source": [
    "#make additive rasters\n",
    "pop_np2 = pop_np\n",
    "pop_np2[np.where(pop_np2 >= 0)] = 2\n",
    "pop_np2[np.isnan(pop_np2)] = 1\n",
    "\n",
    "mask_np_num[np.where(mask_np_num == 0)] = 10\n",
    "mask_np_num[np.where(mask_np_num == 1)] = 20"
   ]
  }
 ],
 "metadata": {
  "kernelspec": {
   "display_name": "Python 3",
   "language": "python",
   "name": "python3"
  },
  "language_info": {
   "codemirror_mode": {
    "name": "ipython",
    "version": 3
   },
   "file_extension": ".py",
   "mimetype": "text/x-python",
   "name": "python",
   "nbconvert_exporter": "python",
   "pygments_lexer": "ipython3",
   "version": "3.6.6"
  }
 },
 "nbformat": 4,
 "nbformat_minor": 2
}
